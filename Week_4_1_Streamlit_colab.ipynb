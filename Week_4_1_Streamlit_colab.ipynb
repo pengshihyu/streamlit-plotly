{
  "cells": [
    {
      "cell_type": "markdown",
      "id": "668ec68a",
      "metadata": {
        "id": "668ec68a"
      },
      "source": [
        "Week 4\n",
        "===\n",
        "Goal\n",
        "---\n",
        "Create a plotly-based visualization artifact for Taiwan's proud, TMSC.\n",
        "1. load data,\n",
        "2. Feature Engineering,\n",
        "3. Visualization the Time-Series Interactive visualization.\n",
        "4. Implement streamlit artifact: this needs \n",
        "   - create new github repository to restore files, reference https://github.com/cchuang2009/streamlit-plotly\n",
        "   - visit https://streamlit.io   \n",
        "     - create account and login \n",
        "     - create app which connects with github's repositoy you created, and assign the *.py\n",
        "     \n",
        "\n",
        "**Create GitHub's repository**\n",
        "1. add new repository, and follow the steps to initialize on your local box; \n",
        "\n",
        "```shell\n",
        "echo \"# streamlit-plotly\" >> README.md\n",
        "git init\n",
        "git add README.md\n",
        "git commit -m \"first commit\"\n",
        "git branch -M main\n",
        "git remote add origin https://github.com/cchuang2009/streamlit-plotly.git\n",
        "git push -u origin main\n",
        "```\n",
        "2. and use \"smartgit\" to upload files (below) to github.\n",
        "\n",
        "\n",
        "In the repository, at least two files needed:\n",
        "1. **streamlit_plotly.py**: the main code to activate artifact.\n",
        "2. **requirements.txt** in which contains the packages required in the artifact:\n",
        "```\n",
        "matplotlib\n",
        "plotly\n",
        "yfinance\n",
        "pandas_ta\n",
        "jinja2==3.0\n",
        "bokeh==2.4.3\n",
        "backtesting\n",
        "```\n",
        "\n"
      ]
    },
    {
      "cell_type": "code",
      "source": [
        "!pip install yfinance pandas_ta backtesting"
      ],
      "metadata": {
        "id": "BlYA1dhsDpR9"
      },
      "id": "BlYA1dhsDpR9",
      "execution_count": null,
      "outputs": []
    },
    {
      "cell_type": "code",
      "execution_count": null,
      "id": "c88c25be",
      "metadata": {
        "id": "c88c25be"
      },
      "outputs": [],
      "source": [
        "# numerical and statistical utilities\n",
        "import numpy as np\n",
        "\n",
        "# visualization requirements\n",
        "import matplotlib.pyplot as plt\n",
        "\n",
        "# data utitilies\n",
        "import yfinance as yf\n",
        "import pandas as pd\n",
        "import pandas_ta\n",
        "import datetime as dt"
      ]
    },
    {
      "cell_type": "code",
      "execution_count": null,
      "id": "ca644a1c",
      "metadata": {
        "id": "ca644a1c"
      },
      "outputs": [],
      "source": [
        "# Observe recent changes\n",
        "start = dt.datetime(2019, 1, 1).strftime('%Y-%m-%d')\n",
        "end =  dt.date.today()\n",
        "#end='2023-2-23'\n",
        "\n",
        "# set ticker's symbol in yahoo stock\n",
        "ticker='2330.TW'"
      ]
    },
    {
      "cell_type": "code",
      "execution_count": null,
      "id": "bb286f2f",
      "metadata": {
        "id": "bb286f2f"
      },
      "outputs": [],
      "source": [
        "# Downloading data\n",
        "\n",
        "df = yf.download(ticker, start = start, end = end)"
      ]
    },
    {
      "cell_type": "code",
      "execution_count": null,
      "id": "8a0e4b10",
      "metadata": {
        "id": "8a0e4b10"
      },
      "outputs": [],
      "source": [
        "# More technic indexes\n",
        "\n",
        "df['stoch_k'] = pandas_ta.stochrsi(close=df['Adj Close'],length=20).iloc[:,0]\n",
        "df['stoch_d'] = pandas_ta.stochrsi(close=df['Adj Close'],length=20).iloc[:,1]\n",
        "df['bb_lower'] = pandas_ta.bbands(close=df['Adj Close'],length=20).iloc[:,0]\n",
        "df['bb_upper'] = pandas_ta.bbands(close=df['Adj Close'],length=20).iloc[:,2]\n",
        "df['forward_1d'] = df['Adj Close'].pct_change(1).shift(-1)"
      ]
    },
    {
      "cell_type": "code",
      "execution_count": null,
      "id": "df58c624",
      "metadata": {
        "id": "df58c624"
      },
      "outputs": [],
      "source": [
        "import plotly.graph_objs as go\n",
        "import plotly.express as ex"
      ]
    },
    {
      "cell_type": "code",
      "execution_count": null,
      "id": "634b4b4b",
      "metadata": {
        "id": "634b4b4b"
      },
      "outputs": [],
      "source": [
        "fig=ex.line(df, x=df.index, y=['Adj Close','bb_lower','bb_upper'], title='台積電 (2330.TW) Adj Close with Bollinger Bands')\n",
        "#       title_x=0.5, title_y=0.95)\n",
        "fig.update_layout(title_text=f'台積電 (2330.TW) Adj Close with Bollinger Bands', title_x=0.5)\n"
      ]
    },
    {
      "cell_type": "markdown",
      "source": [
        "After setup model, Thw final is to implement it on the colud.\n",
        "\n",
        "We use streamlit to complete this just it owns the advantages:\n",
        "1. free\n",
        "2. simplest (seemlessly incorporated with GitHub)"
      ],
      "metadata": {
        "id": "5-VaOIbVEZ-V"
      },
      "id": "5-VaOIbVEZ-V"
    },
    {
      "cell_type": "code",
      "source": [
        "!pip install streamlit"
      ],
      "metadata": {
        "id": "8lRJ3XlfFPj_"
      },
      "id": "8lRJ3XlfFPj_",
      "execution_count": null,
      "outputs": []
    },
    {
      "cell_type": "code",
      "execution_count": null,
      "id": "be9839a1",
      "metadata": {
        "id": "be9839a1"
      },
      "outputs": [],
      "source": [
        "import streamlit as st"
      ]
    },
    {
      "cell_type": "code",
      "execution_count": null,
      "id": "7ab1df4a",
      "metadata": {
        "id": "7ab1df4a"
      },
      "outputs": [],
      "source": [
        "# Plot!\n",
        "st.plotly_chart(fig, use_container_width=True)"
      ]
    },
    {
      "cell_type": "markdown",
      "source": [
        "Above message said, we could test/run the streamlit app on one's box.\n",
        "\n",
        "You can try it as a self-practicing:\n",
        "\n",
        "1. create a sub-directory, named **streamlit-plotly**, on your local box.\n",
        "2. creat **requirementx.txt** in the sub-directory:\n",
        "\n",
        "```\n",
        "matplotlib\n",
        "plotly\n",
        "yfinance\n",
        "pandas_ta\n",
        "jinja2==3.0\n",
        "bokeh==2.4.3\n",
        "backtesting\n",
        "```\n",
        "3. the main Python code, **streamlit_plotly.py**:\n",
        "\n",
        "```python\n",
        "# numerical and statistical utilities\n",
        "import numpy as np\n",
        "\n",
        "# visualization requirements\n",
        "import matplotlib.pyplot as plt\n",
        "import plotly.graph_objs as go\n",
        "import plotly.express as ex\n",
        "\n",
        "# data utitilies\n",
        "import yfinance as yf\n",
        "import pandas as pd\n",
        "import pandas_ta\n",
        "import datetime as dt\n",
        "\n",
        "# streamlit artiface \n",
        "import streamlit as st\n",
        "\n",
        "# Observe recent changes\n",
        "start = dt.datetime(2019, 1, 1).strftime('%Y-%m-%d')\n",
        "end =  dt.date.today()\n",
        "#end='2023-2-23'\n",
        "\n",
        "# set ticker's symbol in yahoo stock\n",
        "ticker='2330.TW'\n",
        "\n",
        "# Downloading data\n",
        "\n",
        "df = yf.download(ticker, start = start, end = end)\n",
        "\n",
        "# More technic indexes\n",
        "\n",
        "df['stoch_k'] = pandas_ta.stochrsi(close=df['Adj Close'],length=20).iloc[:,0]\n",
        "df['stoch_d'] = pandas_ta.stochrsi(close=df['Adj Close'],length=20).iloc[:,1]\n",
        "df['bb_lower'] = pandas_ta.bbands(close=df['Adj Close'],length=20).iloc[:,0]\n",
        "df['bb_upper'] = pandas_ta.bbands(close=df['Adj Close'],length=20).iloc[:,2]\n",
        "df['forward_1d'] = df['Adj Close'].pct_change(1).shift(-1)\n",
        "\n",
        "fig=ex.line(df, x=df.index, y=['Adj Close','bb_lower','bb_upper'], title='台積電 (2330.TW) Adj Close with Bollinger Bands')\n",
        "fig.update_layout(title_text=f'台積電 (2330.TW) Adj Close with Bollinger Bands', title_x=0.5);\n",
        "\n",
        "# Plot!\n",
        "st.plotly_chart(fig, use_container_width=True)\n",
        "```\n",
        "3. If you had installed the whole Jupyter  environment on your box, just execute the following to test the artifact:\n",
        "\n",
        "```shell\n",
        "> streamlit run streamlit_plotly.py\n",
        "```\n",
        "et voila!.\n",
        "\n",
        "4. Now consider to set up the artifact on the cloud.\n",
        "   - create a new github repository, **streamlit-plotly**, upload streamlit_plotly.py, requirements.txt.\n",
        "   - visit [Stramlit official](https://streamli.io), create a account and add a new app, in which connects with GitHub repository, streamlit-plotly. Add it. you will bring to the site in which the activates your artifact.\n",
        "\n",
        "Note\n",
        "---\n",
        "If you could not establish GitHub repository successfully, clone\n",
        " [https://github.com/cchuang2009/streamlit-plotly](https://github.com/cchuang2009/streamlit-plotly) for test."
      ],
      "metadata": {
        "id": "t0tNUjSMFGJK"
      },
      "id": "t0tNUjSMFGJK"
    },
    {
      "cell_type": "code",
      "execution_count": null,
      "id": "49463831",
      "metadata": {
        "id": "49463831"
      },
      "outputs": [],
      "source": []
    }
  ],
  "metadata": {
    "hide_input": false,
    "kernelspec": {
      "display_name": "Python 3",
      "language": "python",
      "name": "python3"
    },
    "language_info": {
      "codemirror_mode": {
        "name": "ipython",
        "version": 3
      },
      "file_extension": ".py",
      "mimetype": "text/x-python",
      "name": "python",
      "nbconvert_exporter": "python",
      "pygments_lexer": "ipython3",
      "version": "3.8.5"
    },
    "colab": {
      "provenance": []
    }
  },
  "nbformat": 4,
  "nbformat_minor": 5
}